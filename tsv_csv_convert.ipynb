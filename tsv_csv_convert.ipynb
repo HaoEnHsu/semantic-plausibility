{
 "cells": [
  {
   "cell_type": "code",
   "execution_count": 3,
   "metadata": {},
   "outputs": [],
   "source": [
    "import csv\n",
    "\n",
    "def tsv_to_csv(tsv_file_path, csv_file_path):\n",
    "\n",
    "    with open(tsv_file_path, 'r', newline='') as tsv_file:\n",
    "        tsv_reader = csv.reader(tsv_file, delimiter='\\t')\n",
    "        \n",
    "        with open(csv_file_path, 'w', newline='') as csv_file:\n",
    "            csv_writer = csv.writer(csv_file, delimiter=',')\n",
    "            \n",
    "            for row in tsv_reader:\n",
    "                csv_writer.writerow(row)\n",
    "\n",
    "tsv_file_path = 'test.tsv'\n",
    "csv_file_path = 'test.csv'\n",
    "tsv_to_csv(tsv_file_path, csv_file_path)"
   ]
  }
 ],
 "metadata": {
  "kernelspec": {
   "display_name": "Python 3",
   "language": "python",
   "name": "python3"
  },
  "language_info": {
   "codemirror_mode": {
    "name": "ipython",
    "version": 3
   },
   "file_extension": ".py",
   "mimetype": "text/x-python",
   "name": "python",
   "nbconvert_exporter": "python",
   "pygments_lexer": "ipython3",
   "version": "3.10.2"
  }
 },
 "nbformat": 4,
 "nbformat_minor": 2
}
